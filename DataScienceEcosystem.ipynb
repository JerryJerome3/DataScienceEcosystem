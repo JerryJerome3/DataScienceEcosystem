{
 "cells": [
  {
   "cell_type": "markdown",
   "id": "a7804577-3bb6-4a2c-b555-73e6cee4c3c8",
   "metadata": {},
   "source": [
    "# Markdown Cell\n",
    "# H1: Data Science Tools and Ecosystem"
   ]
  },
  {
   "cell_type": "markdown",
   "id": "df512abe-9199-4bf6-ba88-30cf8156df2f",
   "metadata": {},
   "source": [
    "## H2: Introduction\n",
    "In this notebook, Data Science Tools and Ecoystem are summarized."
   ]
  },
  {
   "cell_type": "markdown",
   "id": "8a906f69-e17c-40e8-82b7-0c48c855bd2a",
   "metadata": {},
   "source": [
    "**Objectives:**\n",
    "- List popular languages for Data Science.\n",
    "- List common libraries Data Scientists use.\n",
    "- List popular development environments Data Scientists use.\n",
    "- Practice examples of basic arithmetic expressions and ordered/unordered lists."
   ]
  },
  {
   "cell_type": "markdown",
   "id": "a237a519-da19-49e0-aa87-a89771497f58",
   "metadata": {},
   "source": [
    "### H3: Data Science Languages\n",
    "Some of the popular languages Data Scientists use are:\n",
    "\n",
    "1. Python\n",
    "2. R\n",
    "3. SQL"
   ]
  },
  {
   "cell_type": "markdown",
   "id": "c1445cb2-87c2-429e-bda9-0ae90110dc9a",
   "metadata": {},
   "source": [
    "### H3: Data Science Libraries\n",
    "\n",
    "Some of the commonly used libraries by Data Scientists include:\n",
    "\n",
    "1. NumPy\n",
    "2. Pandas\n",
    "3. Matplotlib"
   ]
  },
  {
   "cell_type": "markdown",
   "id": "659f0dcc-ee81-4450-9a24-86399a5f3254",
   "metadata": {},
   "source": [
    "| Data Science Tools |\n",
    "| ------------------ |\n",
    "| Jupyter Notebook |\n",
    "| Visual Studio Code |\n",
    "| Pycharm |"
   ]
  },
  {
   "cell_type": "markdown",
   "id": "1b841d08-9519-48a3-af5e-8279ef762ab7",
   "metadata": {},
   "source": [
    "### H3: Arithmetic Expression Examples\n",
    "\n",
    "Below are a few examples of evaluating arithmetic expressions in Python"
   ]
  },
  {
   "cell_type": "code",
   "execution_count": 1,
   "id": "5ca9c424-38a4-410f-8427-7ab812dce9cc",
   "metadata": {},
   "outputs": [
    {
     "data": {
      "text/plain": [
       "17"
      ]
     },
     "execution_count": 1,
     "metadata": {},
     "output_type": "execute_result"
    }
   ],
   "source": [
    "# This is a simple arithmetic expression to multiply then add integers\n",
    "(3*4)+5"
   ]
  },
  {
   "cell_type": "code",
   "execution_count": 2,
   "id": "55e88b67-8413-4bdf-b9a1-e8ec041ea88a",
   "metadata": {},
   "outputs": [
    {
     "data": {
      "text/plain": [
       "3.3333333333333335"
      ]
     },
     "execution_count": 2,
     "metadata": {},
     "output_type": "execute_result"
    }
   ],
   "source": [
    "# This will convert 200 minutes to hours by dividing by 60.\n",
    "200/60"
   ]
  },
  {
   "cell_type": "markdown",
   "id": "e2d773f1-37d6-4ee9-b726-ce086fe24c9a",
   "metadata": {},
   "source": [
    "## H2: Author\n",
    "\n",
    "Jerry Jerome"
   ]
  },
  {
   "cell_type": "code",
   "execution_count": null,
   "id": "a03c9809-4729-4014-94e8-394002d60974",
   "metadata": {},
   "outputs": [],
   "source": []
  }
 ],
 "metadata": {
  "kernelspec": {
   "display_name": "Python 3 (ipykernel)",
   "language": "python",
   "name": "python3"
  },
  "language_info": {
   "codemirror_mode": {
    "name": "ipython",
    "version": 3
   },
   "file_extension": ".py",
   "mimetype": "text/x-python",
   "name": "python",
   "nbconvert_exporter": "python",
   "pygments_lexer": "ipython3",
   "version": "3.8.2"
  }
 },
 "nbformat": 4,
 "nbformat_minor": 5
}
